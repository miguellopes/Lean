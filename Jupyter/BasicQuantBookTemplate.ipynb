{
 "cells": [
  {
   "cell_type": "markdown",
   "metadata": {
    "collapsed": true
   },
   "source": [
    "## QuantBook Basics\n",
    "\n",
    "### Start QuantBook\n",
    "- Add the references and imports\n",
    "- Create a QuantBook instance"
   ]
  },
  {
   "cell_type": "code",
   "execution_count": null,
   "metadata": {
    "collapsed": true
   },
   "outputs": [],
   "source": [
    "%matplotlib inline\n",
    "# Imports\n",
    "from clr import AddReference\n",
    "AddReference(\"System\")\n",
    "AddReference(\"QuantConnect.Common\")\n",
    "AddReference(\"QuantConnect.Jupyter\")\n",
    "from QuantConnect import *\n",
    "from QuantConnect.Jupyter import *\n",
    "from datetime import datetime\n",
    "import matplotlib.pyplot as plt\n",
    "\n",
    "# Create an instance\n",
    "qb = QuantBook()"
   ]
  },
  {
   "cell_type": "markdown",
   "metadata": {
    "collapsed": true
   },
   "source": [
    "### Get information about symbol"
   ]
  },
  {
   "cell_type": "code",
   "execution_count": null,
   "metadata": {},
   "outputs": [],
   "source": [
    "spy = qb.GetSymbol(\"SPY\")\n",
    "eur = qb.GetSymbol(\"EURUSD\", \"forex\")\n",
    "euro = qb.GetSymbol(\"EURUSD\", \"forex\", \"oanda\")\n",
    "qb.PrintSymbols([spy, eur, euro])\n",
    "# or qb.PrintSymbols([\"SPY\", eur, euro])"
   ]
  },
  {
   "cell_type": "markdown",
   "metadata": {},
   "source": [
    "### Get Price History\n",
    "\n",
    "- *History([symbol], start_date = datetime(1998,1,1), end_date = datetime.now(), resolution = Resolution.Daily, selector = null)*\n",
    "- *History([symbol], span, resolution = Resolution.Daily, selector = null)*\n",
    "- *History([symbol], periods, resolution = Resolution.Daily, selector = null)*\n",
    "\n",
    "We will get a pandas.DataFrame with OHLCV information.\n",
    "\n",
    "The lookback period can be controlled with a timedelta or a integer. It refers to *datetime.now()*:"
   ]
  },
  {
   "cell_type": "code",
   "execution_count": null,
   "metadata": {
    "scrolled": true
   },
   "outputs": [],
   "source": [
    "history = qb.History([eur])\n",
    "history.head(10)"
   ]
  },
  {
   "cell_type": "code",
   "execution_count": null,
   "metadata": {},
   "outputs": [],
   "source": [
    "from datetime import timedelta\n",
    "qb.History([\"SPY\"], timedelta(hours = 300))   # 300 hours"
   ]
  },
  {
   "cell_type": "code",
   "execution_count": null,
   "metadata": {},
   "outputs": [],
   "source": [
    "qb.History([\"SPY\"], 10)   # 10 days, since resolution is daily"
   ]
  },
  {
   "cell_type": "markdown",
   "metadata": {},
   "source": [
    "- History from two or more symbol\n",
    "\n",
    "We will get a pandas.DataFrame with OHLCV information. With more than one symbol, there is top level columns that identifies the symbol."
   ]
  },
  {
   "cell_type": "code",
   "execution_count": null,
   "metadata": {
    "scrolled": false
   },
   "outputs": [],
   "source": [
    "gld = qb.GetSymbol(\"GLD\")\n",
    "glx = qb.GetSymbol(\"GLX\")\n",
    "gold = qb.History([gld, glx])\n",
    "# or gold = qb.History([\"GLD\", \"GLX\"])\n",
    "gold.tail(10)"
   ]
  },
  {
   "cell_type": "markdown",
   "metadata": {},
   "source": [
    "- History from two or more symbol and specific field\n",
    "\n",
    "We will get a pandas.DataFrame with OHLCV information."
   ]
  },
  {
   "cell_type": "code",
   "execution_count": null,
   "metadata": {},
   "outputs": [],
   "source": [
    "gold_close = qb.History([\"GLD\", \"GLX\"], None, None, Resolution.Daily, Field.Close)\n",
    "gold_close.tail(10)"
   ]
  },
  {
   "cell_type": "markdown",
   "metadata": {},
   "source": [
    "### Plot the output\n",
    "Plot the values directly using pandas.DataFrame.plot()"
   ]
  },
  {
   "cell_type": "code",
   "execution_count": null,
   "metadata": {},
   "outputs": [],
   "source": [
    "gold_close.plot()"
   ]
  },
  {
   "cell_type": "markdown",
   "metadata": {},
   "source": [
    "### Get Fundamental Data\n",
    "\n",
    "- *GetFundamental([symbol], selector, start_date = datetime(1998,1,1), end_date = datetime.now())*\n",
    "\n",
    "We will get a pandas.DataFrame with fundamental data."
   ]
  },
  {
   "cell_type": "code",
   "execution_count": null,
   "metadata": {},
   "outputs": [],
   "source": [
    "data = qb.GetFundamental([\"AAPL\",\"AIG\",\"BAC\",\"GOOG\",\"IBM\"], \"ValuationRatios.PERatio\")\n",
    "data"
   ]
  }
 ],
 "metadata": {
  "kernelspec": {
   "display_name": "Python 2",
   "language": "python",
   "name": "python2"
  },
  "language_info": {
   "codemirror_mode": {
    "name": "ipython",
    "version": 2
   },
   "file_extension": ".py",
   "mimetype": "text/x-python",
   "name": "python",
   "nbconvert_exporter": "python",
   "pygments_lexer": "ipython2",
   "version": "2.7"
  }
 },
 "nbformat": 4,
 "nbformat_minor": 2
}
